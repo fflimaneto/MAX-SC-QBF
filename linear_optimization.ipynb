{
 "cells": [
  {
   "cell_type": "code",
   "execution_count": 103,
   "metadata": {},
   "outputs": [],
   "source": [
    "import gurobipy as gp\n",
    "from gurobipy import GRB\n",
    "\n",
    "import numpy as np\n",
    "import random"
   ]
  },
  {
   "cell_type": "markdown",
   "metadata": {},
   "source": [
    "## Data"
   ]
  },
  {
   "cell_type": "code",
   "execution_count": 104,
   "metadata": {},
   "outputs": [],
   "source": [
    "n = 5\n",
    "subsets_config = [2, 2, 3, 1, 5] "
   ]
  },
  {
   "cell_type": "code",
   "execution_count": 105,
   "metadata": {},
   "outputs": [],
   "source": [
    "base_numbers = list(range(n))\n",
    "def generating_data(n, subsets_config):\n",
    "    random.seed(42)\n",
    "\n",
    "    \n",
    "    while True:\n",
    "        subsets = []\n",
    "\n",
    "        for size in subsets_config:\n",
    "            if size > n:\n",
    "                print(\"Size cannot be larger than n\")\n",
    "            subset = random.sample(base_numbers, size)\n",
    "            subsets.append(subset)\n",
    "\n",
    "        union = set()\n",
    "        for subset in subsets:\n",
    "            union.update(subset)\n",
    "        \n",
    "        if union == set(base_numbers):\n",
    "            break\n",
    "\n",
    "\n",
    "    # A = np.random.rand(n, n)\n",
    "    A = np.random.uniform(-1, 1, size=(n, n)) \n",
    "    A = np.triu(A)\n",
    "    \n",
    "    return subsets, A\n",
    "\n",
    "subsets, A = generating_data(5, subsets_config)"
   ]
  },
  {
   "cell_type": "code",
   "execution_count": 106,
   "metadata": {},
   "outputs": [
    {
     "data": {
      "text/plain": [
       "[[0, 4], [2, 1], [1, 4, 2], [0], [4, 0, 2, 1, 3]]"
      ]
     },
     "execution_count": 106,
     "metadata": {},
     "output_type": "execute_result"
    }
   ],
   "source": [
    "subsets"
   ]
  },
  {
   "cell_type": "code",
   "execution_count": 107,
   "metadata": {},
   "outputs": [
    {
     "data": {
      "text/plain": [
       "array([[-5.42729080e-01, -3.17081445e-01, -9.97251352e-01,\n",
       "        -9.30733642e-01,  4.75416297e-01],\n",
       "       [ 0.00000000e+00, -8.44398797e-03,  6.13022131e-01,\n",
       "         6.46498392e-01, -8.74034119e-02],\n",
       "       [ 0.00000000e+00,  0.00000000e+00,  3.17289022e-01,\n",
       "         9.87310042e-01, -8.00671047e-01],\n",
       "       [ 0.00000000e+00,  0.00000000e+00,  0.00000000e+00,\n",
       "         4.82776277e-04,  4.21144359e-01],\n",
       "       [ 0.00000000e+00,  0.00000000e+00,  0.00000000e+00,\n",
       "         0.00000000e+00,  6.29188284e-01]])"
      ]
     },
     "execution_count": 107,
     "metadata": {},
     "output_type": "execute_result"
    }
   ],
   "source": [
    "A"
   ]
  },
  {
   "cell_type": "code",
   "execution_count": 108,
   "metadata": {},
   "outputs": [
    {
     "data": {
      "text/plain": [
       "{(0, 0): 1,\n",
       " (0, 1): 0,\n",
       " (0, 2): 0,\n",
       " (0, 3): 1,\n",
       " (0, 4): 1,\n",
       " (1, 0): 0,\n",
       " (1, 1): 1,\n",
       " (1, 2): 1,\n",
       " (1, 3): 0,\n",
       " (1, 4): 1,\n",
       " (2, 0): 0,\n",
       " (2, 1): 1,\n",
       " (2, 2): 1,\n",
       " (2, 3): 0,\n",
       " (2, 4): 1,\n",
       " (3, 0): 0,\n",
       " (3, 1): 0,\n",
       " (3, 2): 0,\n",
       " (3, 3): 0,\n",
       " (3, 4): 1,\n",
       " (4, 0): 1,\n",
       " (4, 1): 0,\n",
       " (4, 2): 1,\n",
       " (4, 3): 0,\n",
       " (4, 4): 1}"
      ]
     },
     "execution_count": 108,
     "metadata": {},
     "output_type": "execute_result"
    }
   ],
   "source": [
    "e = {(k,i): 1 if k in subsets[i] else 0 \n",
    "     for k in base_numbers \n",
    "     for i in range(len(subsets))}\n",
    "e"
   ]
  },
  {
   "cell_type": "markdown",
   "metadata": {},
   "source": [
    "## Model"
   ]
  },
  {
   "cell_type": "code",
   "execution_count": 109,
   "metadata": {},
   "outputs": [
    {
     "name": "stdout",
     "output_type": "stream",
     "text": [
      "Set parameter TimeLimit to value 600\n",
      "Gurobi Optimizer version 12.0.3 build v12.0.3rc0 (mac64[arm] - Darwin 24.6.0 24G84)\n",
      "\n",
      "CPU model: Apple M3 Pro\n",
      "Thread count: 12 physical cores, 12 logical processors, using up to 12 threads\n",
      "\n",
      "Non-default parameters:\n",
      "TimeLimit  600\n",
      "\n",
      "Optimize a model with 80 rows, 30 columns and 183 nonzeros\n",
      "Model fingerprint: 0xa38c79a1\n",
      "Variable types: 0 continuous, 30 integer (30 binary)\n",
      "Coefficient statistics:\n",
      "  Matrix range     [1e+00, 2e+00]\n",
      "  Objective range  [5e-04, 1e+00]\n",
      "  Bounds range     [1e+00, 1e+00]\n",
      "  RHS range        [1e+00, 1e+00]\n",
      "Found heuristic solution: objective 0.4060373\n",
      "Found heuristic solution: objective 0.6291883\n",
      "Presolve removed 80 rows and 30 columns\n",
      "Presolve time: 0.00s\n",
      "Presolve: All rows and columns removed\n",
      "\n",
      "Explored 0 nodes (0 simplex iterations) in 0.00 seconds (0.00 work units)\n",
      "Thread count was 1 (of 12 available processors)\n",
      "\n",
      "Solution count 3: 2.71842 0.629188 0.406037 \n",
      "\n",
      "Optimal solution found (tolerance 1.00e-04)\n",
      "Best objective 2.718416559440e+00, best bound 2.718416559440e+00, gap 0.0000%\n"
     ]
    }
   ],
   "source": [
    "model = gp.Model(\"MAX-SC-QBF\")\n",
    "\n",
    "x = model.addVars(n, vtype=GRB.BINARY, name=\"x_i\")\n",
    "y = model.addVars(n, n, vtype=GRB.BINARY, name=\"y\")\n",
    "\n",
    "obj = gp.QuadExpr()\n",
    "for i in range(n):\n",
    "    for j in range(n):\n",
    "        obj += A[i][j] * y[i,j]\n",
    "\n",
    "model.setObjective(obj, GRB.MAXIMIZE)\n",
    "\n",
    "model.addConstrs((y[i,j] <= x[i] for i in range(n) for j in range(n)), \"constrain_1\")\n",
    "model.addConstrs((y[i,j] <= x[j] for i in range(n) for j in range(n)), \"constrain_2\")\n",
    "model.addConstrs((y[i,j] >= x[i] + x[j] - 1 for i in range(n) for j in range(n)), \"constrain_3\")\n",
    "\n",
    "for k in base_numbers:\n",
    "    model.addConstr(\n",
    "        gp.quicksum(e[k,i] * x[i] for i in range(len(subsets))) >= 1,\n",
    "        name=f\"cover_{k}\"\n",
    "    )\n",
    "    \n",
    "model.setParam('TimeLimit', 60*10)\n",
    "model.optimize()"
   ]
  },
  {
   "cell_type": "markdown",
   "metadata": {},
   "source": [
    "## Results"
   ]
  },
  {
   "cell_type": "code",
   "execution_count": 110,
   "metadata": {},
   "outputs": [
    {
     "name": "stdout",
     "output_type": "stream",
     "text": [
      "\n",
      "Final Solution:\n",
      "Optimal Objective Value: 2.7184165594395577\n",
      "\n",
      "Selected Sets:\n",
      "Set 1 (Cover elements [2, 1])\n",
      "Set 2 (Cover elements [1, 4, 2])\n",
      "Set 3 (Cover elements [0])\n",
      "Set 4 (Cover elements [4, 0, 2, 1, 3])\n",
      "\n",
      "Coverage verification:\n",
      "Value 0: Covered\n",
      "Value 1: Covered\n",
      "Value 2: Covered\n",
      "Value 3: Covered\n",
      "Value 4: Covered\n"
     ]
    }
   ],
   "source": [
    "if model.status == GRB.OPTIMAL:\n",
    "    print(\"\\nFinal Solution:\")\n",
    "    print(f\"Optimal Objective Value: {model.ObjVal}\")\n",
    "\n",
    "    print(\"\\nSelected Sets:\")\n",
    "    for i in range(len(subsets)):\n",
    "        if x[i].X > 0.5:\n",
    "            print(f\"Set {i} (Cover elements {subsets[i]})\")\n",
    "    \n",
    "    print(\"\\nCoverage verification:\")\n",
    "    for v in base_numbers:\n",
    "        covered = any(x[i].X > 0.5 for i in range(len(subsets)) if v in subsets[i])\n",
    "        print(f\"Value {v}: {'Covered' if covered else 'NOT COVERED'}\")\n",
    "else:\n",
    "    print(\"No solution found\")"
   ]
  }
 ],
 "metadata": {
  "kernelspec": {
   "display_name": "venv 15-48-07-293",
   "language": "python",
   "name": "python3"
  },
  "language_info": {
   "codemirror_mode": {
    "name": "ipython",
    "version": 3
   },
   "file_extension": ".py",
   "mimetype": "text/x-python",
   "name": "python",
   "nbconvert_exporter": "python",
   "pygments_lexer": "ipython3",
   "version": "3.11.9"
  }
 },
 "nbformat": 4,
 "nbformat_minor": 2
}
